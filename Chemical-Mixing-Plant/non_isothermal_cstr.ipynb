{
 "cells": [
  {
   "cell_type": "code",
   "execution_count": 32,
   "metadata": {},
   "outputs": [],
   "source": [
    "from CoolProp.CoolProp import PropsSI\n",
    "\n",
    "import numpy as np\n",
    "from scipy.integrate import solve_ivp\n",
    "from scipy.misc import derivative\n",
    "from matplotlib import pyplot as plt\n",
    "\n",
    "#### application constants\n",
    "FFMPEG_PATH = r'C:\\CLI-Applications\\ffmpeg-build\\bin\\ffmpeg.exe'\n",
    "MPL_STYLESHEET = r'C:\\Users\\lnick\\Documents\\Personal\\Programming\\Python\\Resources\\proplot_style.mplstyle'\n",
    "\n",
    "#### simulation constants\n",
    "\n",
    "# chemistry\n",
    "A = 3.274e7         # Arrhenius constant in rate equation               [mol^-1 dm^3 s^-1]\n",
    "E_A = 5.0e4         # activation energy for reaction in rate equation   [J]\n",
    "DH = -2.632e4       # enthalpy change for reaction                      [J mol^-1]\n",
    "R = 8.314           # gas constant                                      [J mol^-1 K^-1]\n",
    "K = lambda T: A * np.exp(-E_A / (R * T))\n",
    "\n",
    "# solvent\n",
    "RHO = lambda T: 1e-3 * PropsSI('D', 'T|liquid', T, 'P', 1e5, 'Water')   # solvent density\n",
    "D_RHO_DT = lambda T: derivative(RHO, T, 1e-3)                           # [kg dm^-3]\n",
    "C_P = lambda T: PropsSI('C', 'T|liquid', T, 'P', 1e5, 'Water')          # solvent SHC\n",
    "D_CP_DT = lambda T: derivative(C_P, T, 1e-3)                            # [J kg^-1 K^-1]\n",
    "\n",
    "# flow\n",
    "V = 120             # volume of vessel, fixed                           [dm^3 = litres]\n",
    "Q = 20              # total flow rate                                   [dm^3 s^-1]\n",
    "UA = 880 * 3.95     # steam heater overall HTC * surface area           [W K^-1]\n",
    "T_S = 373           # steam heater temperature                          [K]\n",
    "\n",
    "# manipulated vars\n",
    "Q_A = 10            # inflow rate of A                                  [dm^3 s^-1]\n",
    "Q_B = Q - Q_A       # inflow rate of B                                  [dm^3 s^-1]\n",
    "C_A1 = 1.5          # concentration of A at inflow                      [mol dm^-3]\n",
    "C_B1 = 1.8          # concentration of B at inflow                      [mol dm^-3]\n",
    "T_A1 = 300          # temperature of inflow of A                        [K]\n",
    "T_B1 = 320          # temperature of inflow of A                        [K]\n",
    "\n",
    "# stylesheet\n",
    "plt.style.use(MPL_STYLESHEET)"
   ]
  },
  {
   "cell_type": "code",
   "execution_count": 54,
   "metadata": {},
   "outputs": [],
   "source": [
    "def ode_system(t: float, y: np.ndarray,\n",
    "        const_rho: bool = False, const_shc: bool = True, const_rate: bool = False) -> np.ndarray:\n",
    "\n",
    "    c_A2, c_B2, c_C2, T_2 = y\n",
    "    k = 0.05584 if const_rate else K(T_2)        # rate constant            [mol^-1 dm^3 s^-1]\n",
    "    rho = 1.000 if const_rho else RHO(T_2)       # density                  [kg dm^-3]\n",
    "    c_p = 4200 if const_shc else C_P(T_2)        # isobaric SHC             [J kg^-1 K^-1]\n",
    "    dcp_dt = 0 if const_shc else D_CP_DT(T_2)    # temperature derivative   [J kg^-1 K^-2]\n",
    "    drho_dt = 0 if const_rho else D_RHO_DT(T_2)  # temperature derivative   [kg dm^-3 K^-1]\n",
    "    energy_balance_numer = rho * c_p * (Q_A * T_A1 + Q_B * T_B1 - Q * T_2) \\\n",
    "        - k * V * DH * c_A2 * c_B2 + UA * (T_S - T_2)                     # [J s^-1]\n",
    "    energy_balance_denom = rho * V * (c_p + T_2 * dcp_dt) \\\n",
    "        + c_p * V * drho_dt                                               # [J K^-1]\n",
    "    \n",
    "    return np.array([\n",
    "        C_A1 * Q_A / V - c_A2 * Q / V - k * c_A2 * c_B2,\n",
    "        C_B1 * Q_B / V - c_B2 * Q / V - k * c_A2 * c_B2,\n",
    "        -c_C2 * Q / V + k * c_A2 * c_B2,\n",
    "        energy_balance_numer / energy_balance_denom\n",
    "    ])\n",
    "\n",
    "\n",
    "def solve_sim(init_vals: tuple = [0, 0, 0, 300], t_end: int = 60, plot: bool = False,\n",
    "        assumptions=(True, True, True)):\n",
    "    \n",
    "    sol = solve_ivp(ode_system, (0, t_end), init_vals, args=assumptions)\n",
    "\n",
    "    if plot:\n",
    "        plt.title(r'Reaction: $ A + B \\rightarrow C $')\n",
    "        fig, ax = plt.subplots()\n",
    "        #ax.plot(sol.t, sol.y[0], label=r'$C_{A2}$')\n",
    "        #ax.plot(sol.t, sol.y[1], label=r'$C_{B2}$')\n",
    "        ax.plot(sol.t, sol.y[2], label=r'$[C]$')\n",
    "        ax.set_xlabel('time / s')\n",
    "        ax.set_ylabel(r'concentration / $ mol \\ dm^{-3} $')\n",
    "        plt.legend(loc='upper left')\n",
    "        ax2 = ax.twinx()\n",
    "        ax2.plot(sol.t, sol.y[3], label=r'$T_{2}$', color='r')\n",
    "        ax2.set_ylabel(r'temperature / K')\n",
    "        plt.legend(loc='lower right')\n",
    "        plt.show()\n",
    "\n",
    "    return (sol.y[2][-1], sol.y[3][-1])"
   ]
  },
  {
   "cell_type": "code",
   "execution_count": 53,
   "metadata": {},
   "outputs": [
    {
     "name": "stdout",
     "output_type": "stream",
     "text": [
      "0.1504864102589652 313.4082093380277 (True, True, True)\n",
      "0.27923782157129745 314.1833375381252 (True, True, False)\n",
      "0.15048640988549902 313.42428847704787 (True, False, True)\n",
      "0.2794131810584978 314.20403044349644 (True, False, False)\n",
      "0.15048641026757828 313.43424262378755 (False, True, True)\n",
      "0.2795295560677017 314.2182960322611 (False, True, False)\n",
      "0.15048640989212006 313.45045790164494 (False, False, True)\n",
      "0.27970667323124687 314.23919448621723 (False, False, False)\n"
     ]
    }
   ],
   "source": [
    "import itertools\n",
    "\n",
    "\n",
    "for combo in itertools.product((True, False), repeat=3):\n",
    "    c, T = solve_sim(plot=False, assumptions=combo)\n",
    "    print(c, T, combo)"
   ]
  }
 ],
 "metadata": {
  "kernelspec": {
   "display_name": "Python 3.10.0 ('AllLibs310')",
   "language": "python",
   "name": "python3"
  },
  "language_info": {
   "codemirror_mode": {
    "name": "ipython",
    "version": 3
   },
   "file_extension": ".py",
   "mimetype": "text/x-python",
   "name": "python",
   "nbconvert_exporter": "python",
   "pygments_lexer": "ipython3",
   "version": "3.10.0"
  },
  "orig_nbformat": 4,
  "vscode": {
   "interpreter": {
    "hash": "88508ba1df950000b49252fff926565deee47db321ae4d085253b2be47aef443"
   }
  }
 },
 "nbformat": 4,
 "nbformat_minor": 2
}
